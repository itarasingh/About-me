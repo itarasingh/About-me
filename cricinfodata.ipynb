{
  "cells": [
    {
      "cell_type": "code",
      "execution_count": 1,
      "metadata": {
        "id": "q7MXGMayNASn"
      },
      "outputs": [],
      "source": [
        "import requests\n",
        "from bs4 import BeautifulSoup\n",
        "import pandas as pd\n",
        "import os"
      ]
    },
    {
      "cell_type": "code",
      "execution_count": 23,
      "metadata": {
        "id": "gDP_hjUsNASq"
      },
      "outputs": [],
      "source": [
        "urlnew = [\"https://www.espncricinfo.com/series/indian-premier-league-2024-1410320/royal-challengers-bengaluru-vs-chennai-super-kings-68th-match-1426306/full-scorecard\"]"
      ]
    },
    {
      "cell_type": "code",
      "execution_count": 24,
      "metadata": {
        "id": "feGCKx0yNASq"
      },
      "outputs": [],
      "source": [
        "def toss(url):\n",
        "    webpage=requests.get(url)\n",
        "    web=webpage.content\n",
        "    soup=BeautifulSoup(web,\"html.parser\")\n",
        "    for m in soup.find_all(\"span\"):\n",
        "        n=m.text\n",
        "        if \"elected\" in n:\n",
        "            print(n)\n"
      ]
    },
    {
      "cell_type": "code",
      "execution_count": 25,
      "metadata": {
        "id": "XpxMH8MVNASr",
        "outputId": "1a3994de-599e-49da-8c7b-b02d666f91ca",
        "colab": {
          "base_uri": "https://localhost:8080/"
        }
      },
      "outputs": [
        {
          "output_type": "stream",
          "name": "stdout",
          "text": [
            "Chennai Super Kings, elected to field first\n"
          ]
        }
      ],
      "source": [
        "toss=[toss(url) for url in urlnew]"
      ]
    },
    {
      "cell_type": "code",
      "execution_count": 26,
      "metadata": {
        "id": "GwU787oGNASs"
      },
      "outputs": [],
      "source": [
        "def matchwinner(url):\n",
        "    webpage=requests.get(url)\n",
        "    web=webpage.content\n",
        "    soup=BeautifulSoup(web,\"html.parser\")\n",
        "    for m in soup.find_all(\"p\", {\"class\" : \"ds-text-tight-m\"}):\n",
        "        for span in m.find_all(\"span\"):\n",
        "            print(span.text)"
      ]
    },
    {
      "cell_type": "code",
      "execution_count": 27,
      "metadata": {
        "id": "0XWYn0dKNASt"
      },
      "outputs": [],
      "source": [
        "winner=[matchwinner(url) for url in urlnew]"
      ]
    },
    {
      "cell_type": "code",
      "execution_count": 28,
      "metadata": {
        "id": "44PKFrCRNASt"
      },
      "outputs": [],
      "source": [
        "def scores(url):\n",
        "    webpage=requests.get(url)\n",
        "    web=webpage.content\n",
        "    soup=BeautifulSoup(web,\"html.parser\")\n",
        "    for m in soup.find_all(\"div\", {\"class\" : \"ds-text-compact-m\"}):\n",
        "        for s in m.find_all(\"strong\"):\n",
        "            print(s.text)"
      ]
    },
    {
      "cell_type": "code",
      "execution_count": 29,
      "metadata": {
        "id": "BTxIs7p1NASu",
        "outputId": "e3d7f966-ec22-4427-bf17-80fa5f3370de",
        "colab": {
          "base_uri": "https://localhost:8080/"
        }
      },
      "outputs": [
        {
          "output_type": "stream",
          "name": "stdout",
          "text": [
            "218/5\n",
            "191/7\n"
          ]
        }
      ],
      "source": [
        "score=[scores(url) for url in urlnew]"
      ]
    },
    {
      "cell_type": "code",
      "execution_count": 30,
      "metadata": {
        "id": "wfibPu2lNASv"
      },
      "outputs": [],
      "source": [
        "def teamnames(url):\n",
        "    webpage=requests.get(url)\n",
        "    web=webpage.content\n",
        "    soup=BeautifulSoup(web,\"html.parser\")\n",
        "    for m in soup.find_all(\"span\", {\"class\" : \"ds-text-tight-l\"}):\n",
        "        print(m.text)\n",
        ""
      ]
    },
    {
      "cell_type": "code",
      "execution_count": 31,
      "metadata": {
        "id": "4RDhERoXNASv",
        "outputId": "7e601ece-1b9b-4b09-d9d3-5eb92c7a6968",
        "colab": {
          "base_uri": "https://localhost:8080/"
        }
      },
      "outputs": [
        {
          "output_type": "stream",
          "name": "stdout",
          "text": [
            "Royal Challengers Bengaluru\n",
            "Chennai Super Kings\n",
            "Unlocking the magic of Statsguru\n"
          ]
        }
      ],
      "source": [
        "teams=[teamnames(url) for url in urlnew]"
      ]
    },
    {
      "cell_type": "code",
      "execution_count": null,
      "metadata": {
        "id": "WwA9r2wvNASw"
      },
      "outputs": [],
      "source": []
    }
  ],
  "metadata": {
    "kernelspec": {
      "display_name": "Python 3",
      "language": "python",
      "name": "python3"
    },
    "language_info": {
      "codemirror_mode": {
        "name": "ipython",
        "version": 3
      },
      "file_extension": ".py",
      "mimetype": "text/x-python",
      "name": "python",
      "nbconvert_exporter": "python",
      "pygments_lexer": "ipython3",
      "version": "3.8.5"
    },
    "colab": {
      "provenance": []
    }
  },
  "nbformat": 4,
  "nbformat_minor": 0
}